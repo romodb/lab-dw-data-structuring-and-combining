{
 "cells": [
  {
   "cell_type": "markdown",
   "id": "25d7736c-ba17-4aff-b6bb-66eba20fbf4e",
   "metadata": {
    "id": "25d7736c-ba17-4aff-b6bb-66eba20fbf4e"
   },
   "source": [
    "# Lab | Data Structuring and Combining Data"
   ]
  },
  {
   "cell_type": "markdown",
   "id": "a2cdfc70-44c8-478c-81e7-2bc43fdf4986",
   "metadata": {
    "id": "a2cdfc70-44c8-478c-81e7-2bc43fdf4986"
   },
   "source": [
    "## Challenge 1: Combining & Cleaning Data\n",
    "\n",
    "In this challenge, we will be working with the customer data from an insurance company, as we did in the two previous labs. The data can be found here:\n",
    "- https://raw.githubusercontent.com/data-bootcamp-v4/data/main/file1.csv\n",
    "\n",
    "But this time, we got new data, which can be found in the following 2 CSV files located at the links below.\n",
    "\n",
    "- https://raw.githubusercontent.com/data-bootcamp-v4/data/main/file2.csv\n",
    "- https://raw.githubusercontent.com/data-bootcamp-v4/data/main/file3.csv\n",
    "\n",
    "Note that you'll need to clean and format the new data.\n",
    "\n",
    "Observation:\n",
    "- One option is to first combine the three datasets and then apply the cleaning function to the new combined dataset\n",
    "- Another option would be to read the clean file you saved in the previous lab, and just clean the two new files and concatenate the three clean datasets"
   ]
  },
  {
   "cell_type": "code",
   "execution_count": 1,
   "id": "492d06e3-92c7-4105-ac72-536db98d3244",
   "metadata": {
    "id": "492d06e3-92c7-4105-ac72-536db98d3244"
   },
   "outputs": [
    {
     "name": "stdout",
     "output_type": "stream",
     "text": [
      "<class 'pandas.core.frame.DataFrame'>\n",
      "RangeIndex: 4008 entries, 0 to 4007\n",
      "Data columns (total 11 columns):\n",
      " #   Column                     Non-Null Count  Dtype  \n",
      "---  ------                     --------------  -----  \n",
      " 0   Customer                   1071 non-null   object \n",
      " 1   ST                         1071 non-null   object \n",
      " 2   GENDER                     954 non-null    object \n",
      " 3   Education                  1071 non-null   object \n",
      " 4   Customer Lifetime Value    1068 non-null   object \n",
      " 5   Income                     1071 non-null   float64\n",
      " 6   Monthly Premium Auto       1071 non-null   float64\n",
      " 7   Number of Open Complaints  1071 non-null   object \n",
      " 8   Policy Type                1071 non-null   object \n",
      " 9   Vehicle Class              1071 non-null   object \n",
      " 10  Total Claim Amount         1071 non-null   float64\n",
      "dtypes: float64(3), object(8)\n",
      "memory usage: 344.6+ KB\n"
     ]
    }
   ],
   "source": [
    "import pandas as pd\n",
    "url = 'https://raw.githubusercontent.com/data-bootcamp-v4/data/main/file1.csv'\n",
    "seguro0 = pd.read_csv(url)\n",
    "\n",
    "url = 'https://raw.githubusercontent.com/data-bootcamp-v4/data/main/file2.csv'\n",
    "seguro1 = pd.read_csv(url)\n",
    "\n",
    "url = 'https://raw.githubusercontent.com/data-bootcamp-v4/data/main/file3.csv'\n",
    "seguro2 = pd.read_csv(url)\n",
    "\n",
    "\n",
    "seguro0.info()"
   ]
  },
  {
   "cell_type": "code",
   "execution_count": null,
   "id": "36f1fd0f",
   "metadata": {},
   "outputs": [
    {
     "data": {
      "text/plain": [
       "Customer                     1071\n",
       "ST                              8\n",
       "GENDER                          5\n",
       "Education                       6\n",
       "Customer Lifetime Value      1027\n",
       "Income                        774\n",
       "Monthly Premium Auto          132\n",
       "Number of Open Complaints       6\n",
       "Policy Type                     3\n",
       "Vehicle Class                   6\n",
       "Total Claim Amount            761\n",
       "dtype: int64"
      ]
     },
     "execution_count": 2,
     "metadata": {},
     "output_type": "execute_result"
    }
   ],
   "source": [
    "seguro0.nunique()"
   ]
  },
  {
   "cell_type": "code",
   "execution_count": 3,
   "id": "3b2001cc",
   "metadata": {},
   "outputs": [],
   "source": [
    "seguro_concat = pd.concat([seguro0, seguro1, seguro2], axis = 1)"
   ]
  },
  {
   "cell_type": "code",
   "execution_count": 4,
   "id": "9aea14d4",
   "metadata": {},
   "outputs": [
    {
     "name": "stdout",
     "output_type": "stream",
     "text": [
      "    Customer          ST GENDER             Education Customer Lifetime Value  \\\n",
      "1    QZ44356     Arizona      F              Bachelor              697953.59%   \n",
      "2    AI49188      Nevada      F              Bachelor             1288743.17%   \n",
      "3    WW63253  California      M              Bachelor              764586.18%   \n",
      "4    GA49547  Washington      M  High School or Below              536307.65%   \n",
      "5    OC83172      Oregon      F              Bachelor              825629.78%   \n",
      "..       ...         ...    ...                   ...                     ...   \n",
      "991  KP18988      Oregon      F  High School or Below             2153133.28%   \n",
      "992  TI92884     Arizona      M              Bachelor             1262283.27%   \n",
      "993  JH73503     Arizona      M                Doctor             2017196.15%   \n",
      "994  YE97964        Cali      F              Bachelor             1646436.59%   \n",
      "995  VA30351      Oregon      F  High School or Below              559538.99%   \n",
      "\n",
      "      Income Monthly Premium Auto  Number of Open Complaints     Policy Type  \\\n",
      "1        0.0                 94.0                     1/0/00   Personal Auto   \n",
      "2    48767.0                108.0                     1/0/00   Personal Auto   \n",
      "3        0.0                106.0                     1/0/00  Corporate Auto   \n",
      "4    36357.0                 68.0                     1/0/00   Personal Auto   \n",
      "5    62902.0                 69.0                     1/0/00   Personal Auto   \n",
      "..       ...                  ...                        ...             ...   \n",
      "991      0.0                101.0                     1/0/00   Personal Auto   \n",
      "992  61844.0                106.0                     1/0/00   Personal Auto   \n",
      "993  24804.0                 73.0                     1/0/00   Personal Auto   \n",
      "994  27760.0                104.0                     1/0/00   Personal Auto   \n",
      "995  74454.0                 71.0                     1/0/00   Personal Auto   \n",
      "\n",
      "     Vehicle Class  ...       State Customer Lifetime Value  \\\n",
      "1    Four-Door Car  ...     Arizona             2502.637401   \n",
      "2     Two-Door Car  ...      Nevada             3265.156348   \n",
      "3              SUV  ...  California             4455.843406   \n",
      "4    Four-Door Car  ...  California             7704.958480   \n",
      "5     Two-Door Car  ...     Arizona             2750.705045   \n",
      "..             ...  ...         ...                     ...   \n",
      "991  Four-Door Car  ...  California            18611.453560   \n",
      "992     Sports Car  ...  Washington             2215.912948   \n",
      "993   Two-Door Car  ...  California             7780.903354   \n",
      "994            SUV  ...     Arizona             2860.864563   \n",
      "995  Four-Door Car  ...  California             5577.942343   \n",
      "\n",
      "                Education Gender Income Monthly Premium Auto  \\\n",
      "1                  Master      M      0                   66   \n",
      "2                Bachelor      F  25820                   82   \n",
      "3    High School or Below      F      0                  121   \n",
      "4    High School or Below      M  30366                  101   \n",
      "5                 College      M  51789                   70   \n",
      "..                    ...    ...    ...                  ...   \n",
      "991                Master      F  49673                  232   \n",
      "992               College      M      0                   66   \n",
      "993  High School or Below      F      0                   70   \n",
      "994  High School or Below      M  50332                   72   \n",
      "995              Bachelor      M  70190                   71   \n",
      "\n",
      "     Number of Open Complaints     Policy Type Total Claim Amount  \\\n",
      "1                            0   Personal Auto           3.468912   \n",
      "2                            0   Personal Auto         393.600000   \n",
      "3                            0   Personal Auto         699.615192   \n",
      "4                            2   Personal Auto         484.800000   \n",
      "5                            0   Personal Auto         336.000000   \n",
      "..                         ...             ...                ...   \n",
      "991                          0   Personal Auto        1021.654003   \n",
      "992                          0   Personal Auto         389.944994   \n",
      "993                          0   Personal Auto         504.000000   \n",
      "994                          0   Personal Auto         345.600000   \n",
      "995                          0  Corporate Auto          15.169017   \n",
      "\n",
      "     Vehicle Class  \n",
      "1     Two-Door Car  \n",
      "2    Four-Door Car  \n",
      "3              SUV  \n",
      "4              SUV  \n",
      "5    Four-Door Car  \n",
      "..             ...  \n",
      "991     Luxury SUV  \n",
      "992   Two-Door Car  \n",
      "993  Four-Door Car  \n",
      "994  Four-Door Car  \n",
      "995   Two-Door Car  \n",
      "\n",
      "[869 rows x 33 columns]\n"
     ]
    }
   ],
   "source": [
    "def clean_data(df):\n",
    "    df = seguro_concat.drop_duplicates()\n",
    "    df = seguro_concat.dropna()\n",
    "    return df\n",
    "\n",
    "# Limpiar el dataset combinado\n",
    "df_cleaned = clean_data(seguro_concat)\n",
    "\n",
    "print(df_cleaned)"
   ]
  },
  {
   "cell_type": "code",
   "execution_count": 5,
   "id": "ce70d984",
   "metadata": {},
   "outputs": [],
   "source": [
    "#Falta el segundo apartado"
   ]
  },
  {
   "cell_type": "markdown",
   "id": "31b8a9e7-7db9-4604-991b-ef6771603e57",
   "metadata": {
    "id": "31b8a9e7-7db9-4604-991b-ef6771603e57"
   },
   "source": [
    "# Challenge 2: Structuring Data"
   ]
  },
  {
   "cell_type": "markdown",
   "id": "a877fd6d-7a0c-46d2-9657-f25036e4ca4b",
   "metadata": {
    "id": "a877fd6d-7a0c-46d2-9657-f25036e4ca4b"
   },
   "source": [
    "In this challenge, we will continue to work with customer data from an insurance company, but we will use a dataset with more columns, called marketing_customer_analysis.csv, which can be found at the following link:\n",
    "\n",
    "https://raw.githubusercontent.com/data-bootcamp-v4/data/main/marketing_customer_analysis_clean.csv\n",
    "\n",
    "This dataset contains information such as customer demographics, policy details, vehicle information, and the customer's response to the last marketing campaign. Our goal is to explore and analyze this data by performing data cleaning, formatting, and structuring."
   ]
  },
  {
   "cell_type": "code",
   "execution_count": 6,
   "id": "aa10d9b0-1c27-4d3f-a8e4-db6ab73bfd26",
   "metadata": {
    "id": "aa10d9b0-1c27-4d3f-a8e4-db6ab73bfd26"
   },
   "outputs": [
    {
     "name": "stdout",
     "output_type": "stream",
     "text": [
      "<class 'pandas.core.frame.DataFrame'>\n",
      "RangeIndex: 10910 entries, 0 to 10909\n",
      "Data columns (total 27 columns):\n",
      " #   Column                         Non-Null Count  Dtype  \n",
      "---  ------                         --------------  -----  \n",
      " 0   unnamed:_0                     10910 non-null  int64  \n",
      " 1   customer                       10910 non-null  object \n",
      " 2   state                          10910 non-null  object \n",
      " 3   customer_lifetime_value        10910 non-null  float64\n",
      " 4   response                       10910 non-null  object \n",
      " 5   coverage                       10910 non-null  object \n",
      " 6   education                      10910 non-null  object \n",
      " 7   effective_to_date              10910 non-null  object \n",
      " 8   employmentstatus               10910 non-null  object \n",
      " 9   gender                         10910 non-null  object \n",
      " 10  income                         10910 non-null  int64  \n",
      " 11  location_code                  10910 non-null  object \n",
      " 12  marital_status                 10910 non-null  object \n",
      " 13  monthly_premium_auto           10910 non-null  int64  \n",
      " 14  months_since_last_claim        10910 non-null  float64\n",
      " 15  months_since_policy_inception  10910 non-null  int64  \n",
      " 16  number_of_open_complaints      10910 non-null  float64\n",
      " 17  number_of_policies             10910 non-null  int64  \n",
      " 18  policy_type                    10910 non-null  object \n",
      " 19  policy                         10910 non-null  object \n",
      " 20  renew_offer_type               10910 non-null  object \n",
      " 21  sales_channel                  10910 non-null  object \n",
      " 22  total_claim_amount             10910 non-null  float64\n",
      " 23  vehicle_class                  10910 non-null  object \n",
      " 24  vehicle_size                   10910 non-null  object \n",
      " 25  vehicle_type                   10910 non-null  object \n",
      " 26  month                          10910 non-null  int64  \n",
      "dtypes: float64(4), int64(6), object(17)\n",
      "memory usage: 2.2+ MB\n"
     ]
    }
   ],
   "source": [
    "# Cargar el CSV\n",
    "url = 'https://raw.githubusercontent.com/data-bootcamp-v4/data/main/marketing_customer_analysis_clean.csv'\n",
    "customer_demographics = pd.read_csv(url)\n",
    "\n",
    "# Explorar el Csv\n",
    "customer_demographics.info()"
   ]
  },
  {
   "cell_type": "markdown",
   "id": "df35fd0d-513e-4e77-867e-429da10a9cc7",
   "metadata": {
    "id": "df35fd0d-513e-4e77-867e-429da10a9cc7"
   },
   "source": [
    "1. You work at the marketing department and you want to know which sales channel brought the most sales in terms of total revenue. Using pivot, create a summary table showing the total revenue for each sales channel (branch, call center, web, and mail).\n",
    "Round the total revenue to 2 decimal points.  Analyze the resulting table to draw insights."
   ]
  },
  {
   "cell_type": "code",
   "execution_count": null,
   "id": "3961df68",
   "metadata": {},
   "outputs": [],
   "source": []
  },
  {
   "cell_type": "code",
   "execution_count": 7,
   "id": "f1d29c6a",
   "metadata": {},
   "outputs": [],
   "source": [
    "# Se crea la subtabla para ventas y beneficio obtenido por el canal\n",
    "benefit = customer_demographics.pivot_table(values='total_claim_amount', index='sales_channel', aggfunc='sum')\n",
    "\n",
    "# Se redondea\n",
    "benefit['total_claim_amount'] = benefit['total_claim_amount'].round(2)\n"
   ]
  },
  {
   "cell_type": "markdown",
   "id": "640993b2-a291-436c-a34d-a551144f8196",
   "metadata": {
    "id": "640993b2-a291-436c-a34d-a551144f8196"
   },
   "source": [
    "2. Create a pivot table that shows the average customer lifetime value per gender and education level. Analyze the resulting table to draw insights."
   ]
  },
  {
   "cell_type": "code",
   "execution_count": 8,
   "id": "b3f6ad8b",
   "metadata": {},
   "outputs": [
    {
     "name": "stdout",
     "output_type": "stream",
     "text": [
      "<class 'pandas.core.frame.DataFrame'>\n",
      "MultiIndex: 10 entries, ('F', 'Bachelor') to ('M', 'Master')\n",
      "Data columns (total 1 columns):\n",
      " #   Column              Non-Null Count  Dtype  \n",
      "---  ------              --------------  -----  \n",
      " 0   total_claim_amount  10 non-null     float64\n",
      "dtypes: float64(1)\n",
      "memory usage: 253.0+ bytes\n"
     ]
    }
   ],
   "source": [
    "# se crea la subtabla\n",
    "gen_edu = customer_demographics.pivot_table(values='total_claim_amount', index=['gender', 'education'])\n",
    "\n",
    "gen_edu.info()"
   ]
  },
  {
   "cell_type": "markdown",
   "id": "32c7f2e5-3d90-43e5-be33-9781b6069198",
   "metadata": {
    "id": "32c7f2e5-3d90-43e5-be33-9781b6069198"
   },
   "source": [
    "## Bonus\n",
    "\n",
    "You work at the customer service department and you want to know which months had the highest number of complaints by policy type category. Create a summary table showing the number of complaints by policy type and month.\n",
    "Show it in a long format table."
   ]
  },
  {
   "cell_type": "markdown",
   "id": "e3d09a8f-953c-448a-a5f8-2e5a8cca7291",
   "metadata": {
    "id": "e3d09a8f-953c-448a-a5f8-2e5a8cca7291"
   },
   "source": [
    "*In data analysis, a long format table is a way of structuring data in which each observation or measurement is stored in a separate row of the table. The key characteristic of a long format table is that each column represents a single variable, and each row represents a single observation of that variable.*\n",
    "\n",
    "*More information about long and wide format tables here: https://www.statology.org/long-vs-wide-data/*"
   ]
  },
  {
   "cell_type": "code",
   "execution_count": 9,
   "id": "3a069e0b-b400-470e-904d-d17582191be4",
   "metadata": {
    "id": "3a069e0b-b400-470e-904d-d17582191be4"
   },
   "outputs": [],
   "source": [
    "# Your code goes here"
   ]
  }
 ],
 "metadata": {
  "colab": {
   "provenance": []
  },
  "kernelspec": {
   "display_name": "Python 3",
   "language": "python",
   "name": "python3"
  },
  "language_info": {
   "codemirror_mode": {
    "name": "ipython",
    "version": 3
   },
   "file_extension": ".py",
   "mimetype": "text/x-python",
   "name": "python",
   "nbconvert_exporter": "python",
   "pygments_lexer": "ipython3",
   "version": "3.12.5"
  }
 },
 "nbformat": 4,
 "nbformat_minor": 5
}
